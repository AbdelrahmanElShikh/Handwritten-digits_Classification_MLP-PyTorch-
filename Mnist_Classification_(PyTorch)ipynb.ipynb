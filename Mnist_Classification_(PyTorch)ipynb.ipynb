{
  "nbformat": 4,
  "nbformat_minor": 0,
  "metadata": {
    "colab": {
      "name": "Mnist Classification (PyTorch)ipynb",
      "version": "0.3.2",
      "provenance": []
    },
    "kernelspec": {
      "name": "python3",
      "display_name": "Python 3"
    },
    "accelerator": "GPU"
  },
  "cells": [
    {
      "metadata": {
        "id": "N1V_Ap7NNQU1",
        "colab_type": "code",
        "colab": {}
      },
      "cell_type": "code",
      "source": [
        "import torch # the main framework we are working on\n",
        "from torchvision import datasets #to get our data (MNIST)\n",
        "import torchvision.transforms as transforms #and transform it to arrays(tensors) and normalize it\n",
        "import numpy as np # to deal with math and matrecies\n",
        "import matplotlib.pyplot as plt \n",
        "%matplotlib inline\n",
        "#above 2 lines for visualizing the data"
      ],
      "execution_count": 0,
      "outputs": []
    },
    {
      "metadata": {
        "id": "718iC_X5PGQB",
        "colab_type": "code",
        "outputId": "1bee33f2-e082-4534-ec27-db9cbccad8f3",
        "colab": {
          "base_uri": "https://localhost:8080/",
          "height": 149
        }
      },
      "cell_type": "code",
      "source": [
        "batch_size = 20\n",
        "transform = transforms.ToTensor()\n",
        "\n",
        "train_images = datasets.MNIST(download=True,root='data',train=True,transform=transform)\n",
        "test_images = datasets.MNIST(download=True,root='data',train=False,transform=transform)\n",
        "print('we have : ', len(train_images) , ' Train images ,and ',len(test_images) , ' Test images')\n",
        "\n",
        "train_loader = torch.utils.data.DataLoader(train_images , batch_size=batch_size ,shuffle=True) \n",
        "test_loader = torch.utils.data.DataLoader(test_images , batch_size=batch_size ,shuffle=True) "
      ],
      "execution_count": 0,
      "outputs": [
        {
          "output_type": "stream",
          "text": [
            "Downloading http://yann.lecun.com/exdb/mnist/train-images-idx3-ubyte.gz\n",
            "Downloading http://yann.lecun.com/exdb/mnist/train-labels-idx1-ubyte.gz\n",
            "Downloading http://yann.lecun.com/exdb/mnist/t10k-images-idx3-ubyte.gz\n",
            "Downloading http://yann.lecun.com/exdb/mnist/t10k-labels-idx1-ubyte.gz\n",
            "Processing...\n",
            "Done!\n",
            "we have :  60000  Train images ,and  10000  Test images\n"
          ],
          "name": "stdout"
        }
      ]
    },
    {
      "metadata": {
        "id": "EzOX_QznSSWg",
        "colab_type": "code",
        "outputId": "68ee00ab-872f-466b-b0d5-8a8c8d42ea0a",
        "colab": {
          "base_uri": "https://localhost:8080/",
          "height": 283
        }
      },
      "cell_type": "code",
      "source": [
        "dataIter = iter(train_loader)\n",
        "images , labels = dataIter.next()\n",
        "#print(images[0])\n",
        "\n",
        "fig = plt.figure(figsize=(25,4))\n",
        "for i in range(batch_size):\n",
        "  single_image = fig.add_subplot(2,10,i+1,xticks=[],yticks=[])\n",
        "  single_image.imshow(np.squeeze(images[i]),cmap='gray')\n",
        "  single_image.set_title(labels[i].item())\n"
      ],
      "execution_count": 0,
      "outputs": [
        {
          "output_type": "display_data",
          "data": {
            "image/png": "[encoded data removed]",
            "text/plain": [
              "<matplotlib.figure.Figure at 0x7f205f7fd748>"
            ]
          },
          "metadata": {
            "tags": []
          }
        }
      ]
    },
    {
      "metadata": {
        "id": "V74SqWFMI91W",
        "colab_type": "text"
      },
      "cell_type": "markdown",
      "source": [
        "# Defining the Neural Network (MLP).\n",
        "![](https://qph.fs.quoracdn.net/main-qimg-135b981c38fcd7226730eb974ec33fe8)\n",
        "# Activation Functions\n",
        "is this information important or not ?\n",
        "![alt text](https://cdn-images-1.medium.com/max/1600/1*XxxiA0jJvPrHEJHD4z893g.png)\n",
        "\n",
        "![alt text](https://i.stack.imgur.com/0rewJ.png)"
      ]
    },
    {
      "metadata": {
        "id": "x1Gvy4AgVVxP",
        "colab_type": "code",
        "outputId": "d08480c1-8f90-4209-ad69-03e12e767b79",
        "colab": {
          "base_uri": "https://localhost:8080/",
          "height": 112
        }
      },
      "cell_type": "code",
      "source": [
        "#Defining the Neural Network Architecture\n",
        "from torch import nn , optim\n",
        "import torch.nn.functional as F\n",
        "\n",
        "class neural_network(nn.Module):\n",
        "  def __init__(self):\n",
        "    super(neural_network,self).__init__()\n",
        "    self.fc1 = nn.Linear(784,512)\n",
        "    self.fc2 = nn.Linear(512,256)\n",
        "    self.fc3 = nn.Linear(256,10)\n",
        "  def forward(self,x):\n",
        "    x = x.view(-1,784) \n",
        "    x = F.relu(self.fc1(x))\n",
        "    x = F.relu(self.fc2(x))\n",
        "    x = F.log_softmax(self.fc3(x),dim=1)\n",
        "    return x\n",
        "model = neural_network()\n",
        "model"
      ],
      "execution_count": 0,
      "outputs": [
        {
          "output_type": "execute_result",
          "data": {
            "text/plain": [
              "neural_network(\n",
              "  (fc1): Linear(in_features=784, out_features=512, bias=True)\n",
              "  (fc2): Linear(in_features=512, out_features=256, bias=True)\n",
              "  (fc3): Linear(in_features=256, out_features=10, bias=True)\n",
              ")"
            ]
          },
          "metadata": {
            "tags": []
          },
          "execution_count": 6
        }
      ]
    },
    {
      "metadata": {
        "id": "aJV8hHfGa0CY",
        "colab_type": "code",
        "colab": {}
      },
      "cell_type": "code",
      "source": [
        "#the loss function and the optimizer\n",
        "loss_function = nn.CrossEntropyLoss()\n",
        "optimizer = optim.SGD(model.parameters(),lr=0.001)"
      ],
      "execution_count": 0,
      "outputs": []
    },
    {
      "metadata": {
        "id": "mkYfx8RNdjhe",
        "colab_type": "text"
      },
      "cell_type": "markdown",
      "source": [
        "# Cross Entropy\n",
        "watch this video to understand it\n",
        "[Video](https://www.youtube.com/watch?v=9r7FIXEAGvs)\n",
        "or \n",
        "Read this article [article](https://medium.com/udacity/shannon-entropy-information-gain-and-picking-balls-from-buckets-5810d35d54b4)"
      ]
    },
    {
      "metadata": {
        "id": "PyUthkivc3Fm",
        "colab_type": "code",
        "outputId": "6d8a6485-9dae-47cd-f5be-f2e212ac659a",
        "colab": {
          "base_uri": "https://localhost:8080/",
          "height": 206
        }
      },
      "cell_type": "code",
      "source": [
        "#training the Neural network\n",
        "epochs = 10\n",
        "model.train()\n",
        "for e in range (epochs):\n",
        "  training_loss = 0\n",
        "  for images , labels in train_loader:\n",
        "    #print(images.size(0))\n",
        "    optimizer.zero_grad()\n",
        "    output = model.forward(images)\n",
        "    loss = loss_function(output,labels)\n",
        "    loss.backward()\n",
        "    optimizer.step()\n",
        "    #training_loss += loss.item()*images.size(0)\n",
        "  #training_loss = training_loss / len(train_loader.dataset)  \n",
        "  #print(\"Training Loss \",(training_loss),\" for Epoch \" , e+1 ,\"The loss only is \", loss.item() )\n",
        "  print(\"Training Loss (ERROR) is : \",loss.item(),' for Epoch ',e+1)"
      ],
      "execution_count": 12,
      "outputs": [
        {
          "output_type": "stream",
          "text": [
            "Training Loss (ERROR) is :  0.02518138289451599  for Epoch  1\n",
            "Training Loss (ERROR) is :  0.04265517741441727  for Epoch  2\n",
            "Training Loss (ERROR) is :  0.045326121151447296  for Epoch  3\n",
            "Training Loss (ERROR) is :  0.18302196264266968  for Epoch  4\n",
            "Training Loss (ERROR) is :  0.22162596881389618  for Epoch  5\n",
            "Training Loss (ERROR) is :  0.28245750069618225  for Epoch  6\n",
            "Training Loss (ERROR) is :  0.12506307661533356  for Epoch  7\n",
            "Training Loss (ERROR) is :  0.016273293644189835  for Epoch  8\n",
            "Training Loss (ERROR) is :  0.055556852370500565  for Epoch  9\n",
            "Training Loss (ERROR) is :  0.0539032407104969  for Epoch  10\n"
          ],
          "name": "stdout"
        }
      ]
    },
    {
      "metadata": {
        "id": "XtNJPGEa5CQ8",
        "colab_type": "code",
        "outputId": "57818b84-2d77-45cd-a321-73620b03be7f",
        "colab": {
          "base_uri": "https://localhost:8080/",
          "height": 36
        }
      },
      "cell_type": "code",
      "source": [
        "#Testing the Neural to see it's accuracy\n",
        "model.eval() #just to make the neural network know that we are in the evaluation mode so we dont  want to update the weights\n",
        "correct_for_all = 0\n",
        "for images , labels in (test_loader):\n",
        "  output  = model(images)\n",
        "  _ , pred = torch.max(output,1)\n",
        "  correct_for_batch = (pred.eq(labels))#we are comparing the model result with the true result stored in the model if true will lead to 1 otherwise 0\n",
        "  correct_for_all +=correct_for_batch.sum()\n",
        "  \n",
        "print(\"Accuracy = \",(correct_for_all.item()/(len(test_loader)*batch_size))*100, \"%\")\n",
        "\n",
        "  "
      ],
      "execution_count": 13,
      "outputs": [
        {
          "output_type": "stream",
          "text": [
            "Accuracy =  96.44 %\n"
          ],
          "name": "stdout"
        }
      ]
    },
    {
      "metadata": {
        "id": "_34-ZVsUyDJx",
        "colab_type": "code",
        "outputId": "d1b67e8d-fd3d-42ab-c053-359e396d17bc",
        "colab": {
          "base_uri": "https://localhost:8080/",
          "height": 283
        }
      },
      "cell_type": "code",
      "source": [
        "# obtain one batch of test images\n",
        "dataiter = iter(test_loader)\n",
        "images, labels = dataiter.next()\n",
        "\n",
        "# get sample outputs\n",
        "output = model(images)\n",
        "# convert output probabilities to predicted class\n",
        "_, preds = torch.max(output, 1)\n",
        "# prep images for display\n",
        "images = images.numpy()\n",
        "\n",
        "# plot the images in the batch, along with predicted and true labels\n",
        "fig = plt.figure(figsize=(25, 4))\n",
        "for idx in np.arange(20):\n",
        "    ax = fig.add_subplot(2, 20/2, idx+1, xticks=[], yticks=[])\n",
        "    ax.imshow(np.squeeze(images[idx]), cmap='gray')\n",
        "    ax.set_title(\"{} ({})\".format(str(preds[idx].item()), str(labels[idx].item())),\n",
        "                 color=(\"green\" if preds[idx]==labels[idx] else \"red\"))"
      ],
      "execution_count": 14,
      "outputs": [
        {
          "output_type": "display_data",
          "data": {
            "image/png": "[encoded data removed]",
            "text/plain": [
              "<matplotlib.figure.Figure at 0x7f201960ecf8>"
            ]
          },
          "metadata": {
            "tags": []
          }
        }
      ]
    },
    {
      "metadata": {
        "id": "mhpZnU3SEQlh",
        "colab_type": "code",
        "colab": {}
      },
      "cell_type": "code",
      "source": [
        ""
      ],
      "execution_count": 0,
      "outputs": []
    }
  ]
}