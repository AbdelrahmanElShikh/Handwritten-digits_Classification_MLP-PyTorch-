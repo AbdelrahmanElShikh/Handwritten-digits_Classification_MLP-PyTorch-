{
  "nbformat": 4,
  "nbformat_minor": 0,
  "metadata": {
    "colab": {
      "name": "Mnist Classification (PyTorch)ipynb",
      "version": "0.3.2",
      "provenance": [],
      "include_colab_link": true
    },
    "kernelspec": {
      "name": "python3",
      "display_name": "Python 3"
    },
    "accelerator": "GPU"
  },
  "cells": [
    {
      "cell_type": "markdown",
      "metadata": {
        "id": "view-in-github",
        "colab_type": "text"
      },
      "source": [
        "<a href=\"https://colab.research.google.com/github/AbdelrahmanElShikh/Handwritten-digits_Classification_MLP-PyTorch-/blob/master/Mnist_Classification_(PyTorch)ipynb.ipynb\" target=\"_parent\"><img src=\"https://colab.research.google.com/assets/colab-badge.svg\" alt=\"Open In Colab\"/></a>"
      ]
    },
    {
      "metadata": {
        "id": "N1V_Ap7NNQU1",
        "colab_type": "code",
        "colab": {}
      },
      "cell_type": "code",
      "source": [
        "import torch # the main framework we are working on\n",
        "from torchvision import datasets #to get our data (MNIST)\n",
        "import torchvision.transforms as transforms #and transform it to arrays(tensors) and normalize it\n",
        "import numpy as np # to deal with math and matrecies\n",
        "import matplotlib.pyplot as plt \n",
        "%matplotlib inline\n",
        "#above 2 lines for visualizing the data"
      ],
      "execution_count": 0,
      "outputs": []
    },
    {
      "metadata": {
        "id": "718iC_X5PGQB",
        "colab_type": "code",
        "outputId": "bef5445d-26ca-4302-cc40-516db01c6263",
        "colab": {
          "base_uri": "https://localhost:8080/",
          "height": 139
        }
      },
      "cell_type": "code",
      "source": [
        "batch_size = 20\n",
        "transform = transforms.ToTensor()\n",
        "\n",
        "train_images = datasets.MNIST(download=True,root='data',train=True,transform=transform)\n",
        "test_images = datasets.MNIST(download=True,root='data',train=False,transform=transform)\n",
        "print('we have : ', len(train_images) , ' Train images ,and ',len(test_images) , ' Test images')\n",
        "\n",
        "train_loader = torch.utils.data.DataLoader(train_images , batch_size=batch_size ,shuffle=True) \n",
        "test_loader = torch.utils.data.DataLoader(test_images , batch_size=batch_size ,shuffle=True) "
      ],
      "execution_count": 0,
      "outputs": [
        {
          "output_type": "stream",
          "text": [
            "Downloading http://yann.lecun.com/exdb/mnist/train-images-idx3-ubyte.gz\n",
            "Downloading http://yann.lecun.com/exdb/mnist/train-labels-idx1-ubyte.gz\n",
            "Downloading http://yann.lecun.com/exdb/mnist/t10k-images-idx3-ubyte.gz\n",
            "Downloading http://yann.lecun.com/exdb/mnist/t10k-labels-idx1-ubyte.gz\n",
            "Processing...\n",
            "Done!\n",
            "we have :  60000  Train images ,and  10000  Test images\n"
          ],
          "name": "stdout"
        }
      ]
    },
    {
      "metadata": {
        "id": "EzOX_QznSSWg",
        "colab_type": "code",
        "outputId": "c82f8f7e-824c-413c-d88a-c13e05c1eb25",
        "colab": {
          "base_uri": "https://localhost:8080/",
          "height": 283
        }
      },
      "cell_type": "code",
      "source": [
        "dataIter = iter(train_loader)\n",
        "images , labels = dataIter.next()\n",
        "#print(images[0])\n",
        "\n",
        "fig = plt.figure(figsize=(25,4))\n",
        "for i in range(batch_size):\n",
        "  single_image = fig.add_subplot(2,10,i+1,xticks=[],yticks=[])\n",
        "  single_image.imshow(np.squeeze(images[i]),cmap='gray')\n",
        "  single_image.set_title(labels[i].item())\n"
      ],
      "execution_count": 0,
      "outputs": [
        {
          "output_type": "display_data",
          "data": {
            "image/png": "[encoded data removed]",
            "text/plain": [
              "<matplotlib.figure.Figure at 0x7fc64c5d6b00>"
            ]
          },
          "metadata": {
            "tags": []
          }
        }
      ]
    },
    {
      "metadata": {
        "id": "V74SqWFMI91W",
        "colab_type": "text"
      },
      "cell_type": "markdown",
      "source": [
        "# Defining the Neural Network (MLP).\n",
        "![](https://qph.fs.quoracdn.net/main-qimg-135b981c38fcd7226730eb974ec33fe8)\n",
        "# Activation Functions\n",
        "is this information important or not ?\n",
        "![alt text](https://cdn-images-1.medium.com/max/1600/1*XxxiA0jJvPrHEJHD4z893g.png)\n",
        "\n",
        "![alt text](https://i.stack.imgur.com/0rewJ.png)"
      ]
    },
    {
      "metadata": {
        "id": "x1Gvy4AgVVxP",
        "colab_type": "code",
        "outputId": "e347e01d-1a3e-4049-ed74-c8642b20918d",
        "colab": {
          "base_uri": "https://localhost:8080/",
          "height": 104
        }
      },
      "cell_type": "code",
      "source": [
        "#Defining the Neural Network Architecture\n",
        "from torch import nn , optim\n",
        "import torch.nn.functional as F\n",
        "\n",
        "class neural_network(nn.Module):\n",
        "  def __init__(self):\n",
        "    super(neural_network,self).__init__()\n",
        "    self.fc1 = nn.Linear(784,512)\n",
        "    self.fc2 = nn.Linear(512,256)\n",
        "    self.fc3 = nn.Linear(256,10)\n",
        "  def forward(self,x):\n",
        "    x = x.view(-1,784) \n",
        "    x = F.relu(self.fc1(x))\n",
        "    x = F.relu(self.fc2(x))\n",
        "    x = F.log_softmax(self.fc3(x),dim=1)\n",
        "    return x\n",
        "model = neural_network()\n",
        "model"
      ],
      "execution_count": 0,
      "outputs": [
        {
          "output_type": "execute_result",
          "data": {
            "text/plain": [
              "neural_network(\n",
              "  (fc1): Linear(in_features=784, out_features=512, bias=True)\n",
              "  (fc2): Linear(in_features=512, out_features=256, bias=True)\n",
              "  (fc3): Linear(in_features=256, out_features=10, bias=True)\n",
              ")"
            ]
          },
          "metadata": {
            "tags": []
          },
          "execution_count": 8
        }
      ]
    },
    {
      "metadata": {
        "id": "aJV8hHfGa0CY",
        "colab_type": "code",
        "colab": {}
      },
      "cell_type": "code",
      "source": [
        "#the loss function and the optimizer\n",
        "loss_function = nn.CrossEntropyLoss()\n",
        "optimizer = optim.SGD(model.parameters(),lr=0.001)"
      ],
      "execution_count": 0,
      "outputs": []
    },
    {
      "metadata": {
        "id": "mkYfx8RNdjhe",
        "colab_type": "text"
      },
      "cell_type": "markdown",
      "source": [
        "# Cross Entropy\n",
        "watch this video to understand it\n",
        "[here](https://www.youtube.com/watch?time_continue=13&v=keDswcqkees)"
      ]
    },
    {
      "metadata": {
        "id": "PyUthkivc3Fm",
        "colab_type": "code",
        "outputId": "c0278201-03f1-468e-b2c7-bb2a9411e825",
        "colab": {
          "base_uri": "https://localhost:8080/",
          "height": 364
        }
      },
      "cell_type": "code",
      "source": [
        "#training the Neural network\n",
        "epochs = 20\n",
        "model.train()\n",
        "for e in range (epochs):\n",
        "  training_loss = 0\n",
        "  for images , labels in train_loader:\n",
        "    #print(images.size(0))\n",
        "    optimizer.zero_grad()\n",
        "    output = model.forward(images)\n",
        "    loss = loss_function(output,labels)\n",
        "    loss.backward()\n",
        "    optimizer.step()\n",
        "    #training_loss += loss.item()*images.size(0)\n",
        "  #training_loss = training_loss / len(train_loader.dataset)  \n",
        "  #print(\"Training Loss \",(training_loss),\" for Epoch \" , e+1 ,\"The loss only is \", loss.item() )\n",
        "  print(\"Training Loss (ERROR) is : \",loss.item(),' for Epoch ',e+1)"
      ],
      "execution_count": 0,
      "outputs": [
        {
          "output_type": "stream",
          "text": [
            "Training Loss (ERROR) is :  2.0886642932891846  for Epoch  1\n",
            "Training Loss (ERROR) is :  1.043105959892273  for Epoch  2\n",
            "Training Loss (ERROR) is :  0.6879321336746216  for Epoch  3\n",
            "Training Loss (ERROR) is :  0.8573737144470215  for Epoch  4\n",
            "Training Loss (ERROR) is :  0.15607909858226776  for Epoch  5\n",
            "Training Loss (ERROR) is :  0.4945651590824127  for Epoch  6\n",
            "Training Loss (ERROR) is :  0.32007986307144165  for Epoch  7\n",
            "Training Loss (ERROR) is :  0.7056300044059753  for Epoch  8\n",
            "Training Loss (ERROR) is :  0.35919272899627686  for Epoch  9\n",
            "Training Loss (ERROR) is :  0.05106712132692337  for Epoch  10\n",
            "Training Loss (ERROR) is :  0.3052248954772949  for Epoch  11\n",
            "Training Loss (ERROR) is :  0.22111959755420685  for Epoch  12\n",
            "Training Loss (ERROR) is :  0.353488028049469  for Epoch  13\n",
            "Training Loss (ERROR) is :  0.11670664697885513  for Epoch  14\n",
            "Training Loss (ERROR) is :  0.08395616710186005  for Epoch  15\n",
            "Training Loss (ERROR) is :  0.2551977336406708  for Epoch  16\n",
            "Training Loss (ERROR) is :  0.9283338785171509  for Epoch  17\n",
            "Training Loss (ERROR) is :  0.24892397224903107  for Epoch  18\n",
            "Training Loss (ERROR) is :  0.07607495039701462  for Epoch  19\n",
            "Training Loss (ERROR) is :  0.21403729915618896  for Epoch  20\n"
          ],
          "name": "stdout"
        }
      ]
    },
    {
      "metadata": {
        "id": "XtNJPGEa5CQ8",
        "colab_type": "code",
        "outputId": "377928b6-24db-49e8-c796-749ad7d6e56f",
        "colab": {
          "base_uri": "https://localhost:8080/",
          "height": 35
        }
      },
      "cell_type": "code",
      "source": [
        "#Testing the Neural to see it's accuracy\n",
        "model.eval() #just to make the neural network know that we are in the evaluation mode so we dont  want to update the weights\n",
        "correct_for_all = 0\n",
        "for images , labels in (test_loader):\n",
        "  output  = model(images)\n",
        "  _ , pred = torch.max(output,1)\n",
        "  correct_for_batch = (pred.eq(labels))#we are comparing the model result with the true result stored in the model if true will lead to 1 otherwise 0\n",
        "  correct_for_all +=correct_for_batch.sum()\n",
        "  \n",
        "print(\"Accuracy = \",(correct_for_all.item()/(len(test_loader)*batch_size))*100, \"%\")\n",
        "\n",
        "  "
      ],
      "execution_count": 0,
      "outputs": [
        {
          "output_type": "stream",
          "text": [
            "Accuracy =  92.86999999999999 %\n"
          ],
          "name": "stdout"
        }
      ]
    },
    {
      "metadata": {
        "id": "_34-ZVsUyDJx",
        "colab_type": "code",
        "outputId": "d486164e-5c95-44de-8ffb-38a4bca438e9",
        "colab": {
          "base_uri": "https://localhost:8080/",
          "height": 283
        }
      },
      "cell_type": "code",
      "source": [
        "# obtain one batch of test images\n",
        "dataiter = iter(test_loader)\n",
        "images, labels = dataiter.next()\n",
        "\n",
        "# get sample outputs\n",
        "output = model(images)\n",
        "# convert output probabilities to predicted class\n",
        "_, preds = torch.max(output, 1)\n",
        "# prep images for display\n",
        "images = images.numpy()\n",
        "\n",
        "# plot the images in the batch, along with predicted and true labels\n",
        "fig = plt.figure(figsize=(25, 4))\n",
        "for idx in np.arange(20):\n",
        "    ax = fig.add_subplot(2, 20/2, idx+1, xticks=[], yticks=[])\n",
        "    ax.imshow(np.squeeze(images[idx]), cmap='gray')\n",
        "    ax.set_title(\"{} ({})\".format(str(preds[idx].item()), str(labels[idx].item())),\n",
        "                 color=(\"green\" if preds[idx]==labels[idx] else \"red\"))"
      ],
      "execution_count": 0,
      "outputs": [
        {
          "output_type": "display_data",
          "data": {
            "image/png": "[encoded data removed]",
            "text/plain": [
              "<matplotlib.figure.Figure at 0x7fc68064f320>"
            ]
          },
          "metadata": {
            "tags": []
          }
        }
      ]
    },
    {
      "metadata": {
        "id": "mhpZnU3SEQlh",
        "colab_type": "code",
        "colab": {}
      },
      "cell_type": "code",
      "source": [
        ""
      ],
      "execution_count": 0,
      "outputs": []
    }
  ]
}